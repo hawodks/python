{
 "cells": [
  {
   "cell_type": "code",
   "execution_count": null,
   "metadata": {},
   "outputs": [],
   "source": [
    "#이 상자를 cell이라고 불러요!\n",
    "#cell안에 이렇게 코드를 넣을 수 가 있구요.\n",
    "#아래쪽에 새로운 cell을 만들고 싶으면 b를 사용\n",
    "#위쪽에 세러은 cell을 만들고 싶으면 a.\n",
    "#cell을 삭제하려면.. cell 선택후 d d .\n",
    "#cell안에 코드를 실행하려면 ctrl + enter\n",
    "#In[n] n은 코드 실행 회수"
   ]
  },
  {
   "cell_type": "code",
   "execution_count": null,
   "metadata": {},
   "outputs": [],
   "source": [
    "#가상환경 리스트 확인\n",
    "#conda info --envs\n",
    "#가상환경 삭제(사용된 폴더는 자동으로 지워지지않음)\n",
    "#conda remove --name data_env -all"
   ]
  },
  {
   "cell_type": "code",
   "execution_count": null,
   "metadata": {},
   "outputs": [],
   "source": [
    "#파이썬 특징\n",
    "#1. 상대적으로 쉬운 언어\n",
    "#2. 강력한 데이터분석 library, AI관련 library\n",
    "#3. open source\n",
    "#4. 데이터분석을 위한 범용적인 언어\n",
    "#   R은 통계를 위한 프로그래밍 언어\n",
    "#5.가장 인기있는 언어중에 하나.\n",
    "#6. 하위 호환성은 문제!"
   ]
  },
  {
   "cell_type": "code",
   "execution_count": 6,
   "metadata": {},
   "outputs": [
    {
     "name": "stdout",
     "output_type": "stream",
     "text": [
      "['False', 'None', 'True', 'and', 'as', 'assert', 'async', 'await', 'break', 'class', 'continue', 'def', 'del', 'elif', 'else', 'except', 'finally', 'for', 'from', 'global', 'if', 'import', 'in', 'is', 'lambda', 'nonlocal', 'not', 'or', 'pass', 'raise', 'return', 'try', 'while', 'with', 'yield']\n",
      "생성된 변수의 값은: 100\n"
     ]
    }
   ],
   "source": [
    "#Python 기본\n",
    "#여러줄 주석은 \n",
    "'''\n",
    "'''\n",
    "#한줄 주석은 : #\n",
    "#-키워드를 살펴보아요!\n",
    "import keyword\n",
    "print(keyword.kwlist)\n",
    "\n",
    "#-변수의 생성과 삭제\n",
    "hahaha =100\n",
    "print('생성된 변수의 값은:',hahaha)"
   ]
  },
  {
   "cell_type": "code",
   "execution_count": null,
   "metadata": {},
   "outputs": [],
   "source": [
    "#Python의 Data Type (Built-in Data type)\n",
    "#여러가지 data type 이 존재하는데 하나하나 알아보아요!\n",
    "#1. numeric\n",
    "#2. sequence\n",
    "#3. text sequence (문자열)\n",
    "#4. mapping\n",
    "#5. set\n",
    "#6. bool\n"
   ]
  },
  {
   "cell_type": "code",
   "execution_count": 10,
   "metadata": {},
   "outputs": [
    {
     "name": "stdout",
     "output_type": "stream",
     "text": [
      "123\n",
      "<class 'int'>\n",
      "6.140000000000001\n",
      "0.75\n",
      "81\n"
     ]
    }
   ],
   "source": [
    "#1. Numeric(숫자형)\n",
    "#정수(int), 실수(float), 복소수(complex)\n",
    "a=123      #정수\n",
    "b=3.141592 #실수\n",
    "c=1+2j     #복소수\n",
    "d=0o34     #8진수\n",
    "e=0xAB     #16진수\n",
    "\n",
    "print(a)   #a값 출력\n",
    "print(type(a))\n",
    "\n",
    "#연산할때 한가지 주의해야 할 점\n",
    "#1.연산은 무조건 같은 데이터 타입끼리 일어나요!\n",
    "a= 3.0 +3.14\n",
    "print(a)\n",
    "\n",
    "a=3/4 #0.75 =>정수/정수 =>정수\n",
    "print(a)\n",
    "\n",
    "#지수표현\n",
    "a=3**4\n",
    "print(a)\n",
    "\n",
    "#나눗셈의 묷\n",
    "a=100//3\n",
    "print(a) #33"
   ]
  },
  {
   "cell_type": "code",
   "execution_count": 20,
   "metadata": {},
   "outputs": [
    {
     "name": "stdout",
     "output_type": "stream",
     "text": [
      "[1, 2, ['show', 'me', 'the', 'money'], 3.14, True]\n",
      "2\n",
      "True\n",
      "me\n",
      "[2, ['show', 'me', 'the', 'money'], 3.14]\n",
      "[100]\n",
      "[3.14, True]\n",
      "[100, 2]\n",
      "[100, 2, ['show', 'me', 'the', 'money'], 3.14, True]\n",
      "[100, 2, ['show', 'me', 'the', 'money'], 3.14]\n",
      "[1, 2, 3, 4, 5, 6]\n",
      "[1, 2, 3, 1, 2, 3, 1, 2, 3]\n",
      "None\n",
      "[2, 4, 6, 7, 8]\n",
      "[8, 7, 6, 4, 2]\n"
     ]
    }
   ],
   "source": [
    "#2. sequence 데이터 타입\n",
    "# sequence data type - list\n",
    "#임의의 데이터를 순서대로 저장하는 집합 자료형\n",
    "# Java의 ArrayList와 비슷\n",
    "#표현은 대괄호를 이용하여 표시, 다른방법도 있음\n",
    "a=list() #리스트 생성\n",
    "a=[]     #리스트 생성\n",
    "a=[1,2,3,4.5,True]\n",
    "a=[1,2,['show','me','the','money'],3.14,True]\n",
    "\n",
    "print(a)\n",
    "print(a[1]) #2번째 출력\n",
    "print(a[-1])#다른 언어와 다르게 가능함 뒤에서부터 인덱스 True\n",
    "\n",
    "print(a[2][1])\n",
    "a[0] = 100\n",
    "\n",
    "print(a[1:4]) #slicing => 부분집합을 얻는것이기 때문에\n",
    "              #그대로 계승.\n",
    "              #앞의 숫자는 inclusive, 뒤의 숫자는 exclusive\n",
    "print(a[0:1]) #[1]  1이 아님\n",
    "print(a[3:])  #[3.14, True]\n",
    "print(a[:2])  #[1,2]\n",
    "print(a[:])   #전부\n",
    "print(a[:-1]) # 마지막 하나 빼고\n",
    "######################\n",
    "\n",
    "a=[1,2,3]\n",
    "b=[4,5,6]\n",
    "print(a+b) #연결(concatenation)\n",
    "           #[1,2,3,4,5,6]\n",
    "print(a*3) #[1,2,3,1,2,3,1,2,3]\n",
    "\n",
    "######################\n",
    "\n",
    "a=[1,2,3]\n",
    "\n",
    "a[0] =5 #[5,2,3]\n",
    "a[0:1]= [7,8,9]   #a=[7,8,9,2,3] 예상외로 리스트 내용을 대체함 !주의!\n",
    "\n",
    "a[0] = [7,8,9]   #이렇게 하면 리스트가 들어감\n",
    "\n",
    "a=[1,2,3]\n",
    "a.append(4)   #[1,2,3,4] 가장 뒤에 붙임\n",
    "\n",
    "a.append([4]) #[1,2,3,[4]] 리스트를 통째로 넣음\n",
    "\n",
    "del a[0]   #리스트 내용 삭제\n",
    "\n",
    "######################\n",
    "#리스트는 집합자료구조이면서 다양한 기능을 보유\n",
    "#많은 함수를 이용해 이런 기능들을 우리에게 제공\n",
    "\n",
    "a=[7,6,4,8,2]  #리스트\n",
    "#정렬하기 매우 간단함\n",
    "result=a.sort()\n",
    "print(result)    #none\n",
    "#sort 함수가 리턴을 주지 않는다. 원본을 제어\n",
    "a.sort()  #이게 옳바른 사용법\n",
    "print(a)\n",
    "a.reverse() #리스트 자체를 역으로 바꾼다.\n",
    "print(a)\n",
    "\n"
   ]
  },
  {
   "cell_type": "code",
   "execution_count": 23,
   "metadata": {},
   "outputs": [
    {
     "name": "stdout",
     "output_type": "stream",
     "text": [
      "<class 'list'>\n",
      "<class 'tuple'>\n"
     ]
    },
    {
     "ename": "TypeError",
     "evalue": "'tuple' object does not support item assignment",
     "output_type": "error",
     "traceback": [
      "\u001b[1;31m---------------------------------------------------------------------------\u001b[0m",
      "\u001b[1;31mTypeError\u001b[0m                                 Traceback (most recent call last)",
      "\u001b[1;32m<ipython-input-23-0afa5c720bce>\u001b[0m in \u001b[0;36m<module>\u001b[1;34m\u001b[0m\n\u001b[0;32m     17\u001b[0m \u001b[0mb\u001b[0m\u001b[1;33m=\u001b[0m\u001b[1;36m4\u001b[0m\u001b[1;33m,\u001b[0m\u001b[1;36m5\u001b[0m\u001b[1;33m,\u001b[0m\u001b[1;36m6\u001b[0m   \u001b[1;31m#이것도 tuple\u001b[0m\u001b[1;33m\u001b[0m\u001b[1;33m\u001b[0m\u001b[0m\n\u001b[0;32m     18\u001b[0m \u001b[1;33m\u001b[0m\u001b[0m\n\u001b[1;32m---> 19\u001b[1;33m \u001b[0mb\u001b[0m\u001b[1;33m[\u001b[0m\u001b[1;36m0\u001b[0m\u001b[1;33m]\u001b[0m\u001b[1;33m=\u001b[0m\u001b[1;36m100\u001b[0m  \u001b[1;31m#tuple 은 변경 불가능함!\u001b[0m\u001b[1;33m\u001b[0m\u001b[1;33m\u001b[0m\u001b[0m\n\u001b[0m\u001b[0;32m     20\u001b[0m \u001b[1;33m\u001b[0m\u001b[0m\n\u001b[0;32m     21\u001b[0m \u001b[1;31m#인덱싱과 슬라이싱 방식은 list와 동일\u001b[0m\u001b[1;33m\u001b[0m\u001b[1;33m\u001b[0m\u001b[1;33m\u001b[0m\u001b[0m\n",
      "\u001b[1;31mTypeError\u001b[0m: 'tuple' object does not support item assignment"
     ]
    }
   ],
   "source": [
    "#2. sequence 데이터 타입\n",
    "# tuple에 대해\n",
    "#리스트와 상당히 유사해요! 가장 큰 차이점은 read only\n",
    "#tuple은 ()소괄호를 이용해 표현\n",
    "a=list()\n",
    "a=[]\n",
    "print(type(a))\n",
    "a=tuple()\n",
    "a=()\n",
    "a=(1,2,3)  #[1,2,3]\n",
    "print(type(a))\n",
    "a=[1]\n",
    "b=(1)      #1개짜리는 소괄호 연산자로 인식!!\n",
    "b=(1,)     #1개 짜리 튜플은 이게 옳은 표현\n",
    "\n",
    "a=(1,2,3) #이것도 tuple\n",
    "b=4,5,6   #이것도 tuple\n",
    "\n",
    "b[0]=100  #tuple 은 변경 불가능함!\n",
    "\n",
    "#인덱싱과 슬라이싱 방식은 list와 동일\n",
    "a=(1,2,3)\n",
    "b=(4,5,6)\n",
    "print(a+b) #안에 요소를 변경은 불가능 하지만 사용은 가능!!\n",
    "\n",
    "last = [1,2,3]  #list\n",
    "#list를 tuple로 변환하기\n",
    "result = tuple(last)\n",
    "print(result)"
   ]
  }
 ],
 "metadata": {
  "kernelspec": {
   "display_name": "Python 3",
   "language": "python",
   "name": "python3"
  },
  "language_info": {
   "codemirror_mode": {
    "name": "ipython",
    "version": 3
   },
   "file_extension": ".py",
   "mimetype": "text/x-python",
   "name": "python",
   "nbconvert_exporter": "python",
   "pygments_lexer": "ipython3",
   "version": "3.7.9"
  }
 },
 "nbformat": 4,
 "nbformat_minor": 4
}
